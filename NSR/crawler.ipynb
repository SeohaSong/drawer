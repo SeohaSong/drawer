{
 "cells": [
  {
   "cell_type": "markdown",
   "metadata": {},
   "source": [
    "# 영어데이타 수집기"
   ]
  },
  {
   "cell_type": "code",
   "execution_count": null,
   "metadata": {},
   "outputs": [],
   "source": [
    "import re\n",
    "import requests\n",
    "from bs4 import BeautifulSoup\n",
    "import pandas as pd\n",
    "import os\n",
    "\n",
    "\n",
    "p = re.compile(\".*currentQuote = '(.+)'.*\")\n",
    "cookies = {\n",
    "    \"connect.sid\":\n",
    "    \"s%3Aseo7jH6ZmmEmnVRXNKlGCDNOgPzPZiym.hHoW%2BO1PrI8utzv0maghpknhnL8vsr%2Bj7gIpqMwOKeA\"\n",
    "}\n",
    "\n",
    "# 키 인터럽트로만 탈출 가능\n",
    "while True:\n",
    "    speechs = []\n",
    "    file_index = len([name for name in os.listdir(\".\")\n",
    "                      if re.compile(\"en-speech\").match(name)])\n",
    "    for i in range(50):\n",
    "        response = requests.get(\n",
    "            \"https://www.typingdna.com/demo/anytext/enroll\",\n",
    "             cookies=cookies\n",
    "        )\n",
    "        bs = BeautifulSoup(response.text, \"lxml\")\n",
    "        try:\n",
    "            speech = p.findall(bs.select(\"script\")[-1].text)[0]\n",
    "        except:\n",
    "            print(response.text)\n",
    "        speechs.append(speech)\n",
    "        print(file_index, \"|\", i)\n",
    "    pd.to_pickle(speechs, \"en-speech%03d\"%file_index)\n",
    "\n",
    "# 키 인터럽트가 날경우 여기로    \n",
    "speechs = [pd.read_pickle(\"./en-speech%02d\"%i)\n",
    "           for i in range(l)]\n",
    "speechs = list(set(sum(speechs, [])))\n",
    "pd.to_pickle(speechs, \"en-speech-total\")\n",
    "for i in range(l):\n",
    "    os.remove(\"en-speech%02d\"%i)"
   ]
  }
 ],
 "metadata": {
  "kernelspec": {
   "display_name": "Python 3",
   "language": "python",
   "name": "python3"
  },
  "language_info": {
   "codemirror_mode": {
    "name": "ipython",
    "version": 3
   },
   "file_extension": ".py",
   "mimetype": "text/x-python",
   "name": "python",
   "nbconvert_exporter": "python",
   "pygments_lexer": "ipython3",
   "version": "3.6.4"
  }
 },
 "nbformat": 4,
 "nbformat_minor": 2
}
