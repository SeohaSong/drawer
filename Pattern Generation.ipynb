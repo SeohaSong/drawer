{
 "cells": [
  {
   "cell_type": "code",
   "execution_count": 165,
   "metadata": {},
   "outputs": [],
   "source": [
    "from matplotlib import pyplot as plt\n",
    "import sys\n",
    "\n",
    "import tensorflow as tf"
   ]
  },
  {
   "cell_type": "code",
   "execution_count": 148,
   "metadata": {},
   "outputs": [],
   "source": [
    "t1 = plt.imread(\"./tt1.png\")\n",
    "t2 = plt.imread(\"./tt2.png\")\n",
    "t3 = plt.imread(\"./tt3.png\")\n",
    "t4 = plt.imread(\"./tt4.png\")\n",
    "t5 = plt.imread(\"./tt5.png\")"
   ]
  },
  {
   "cell_type": "code",
   "execution_count": 202,
   "metadata": {},
   "outputs": [],
   "source": [
    "row = t1.ravel().shape[0]\n",
    "\n",
    "tf.reset_default_graph()\n",
    "g = tf.get_default_graph()\n",
    "\n",
    "X = tf.placeholder(dtype=tf.float32, shape=[None, row])\n",
    "Y = tf.placeholder(dtype=tf.float32, shape=[None, row])\n",
    "\n",
    "W1 = tf.Variable(tf.truncated_normal(shape=[row, 4]))\n",
    "L1 = tf.sigmoid(tf.matmul(X, W1))\n",
    "\n",
    "W2 = tf.Variable(tf.truncated_normal(shape=[4, row]))\n",
    "output = tf.sigmoid(tf.matmul(L1, W2))\n",
    "\n",
    "loss = tf.losses.sigmoid_cross_entropy(Y, output)\n",
    "learn = tf.train.AdamOptimizer().minimize(loss)\n",
    "\n",
    "initializer = tf.global_variables_initializer()"
   ]
  },
  {
   "cell_type": "code",
   "execution_count": 203,
   "metadata": {},
   "outputs": [],
   "source": [
    "feed_dict1 = {\n",
    "    X: [t1.ravel(), t2.ravel(), t3.ravel(), t4.ravel()],\n",
    "    Y: [t2.ravel(), t3.ravel(), t4.ravel(), t5.ravel()]\n",
    "}\n",
    "\n",
    "feed_dict2 = {\n",
    "    X: [t1.ravel()],\n",
    "    Y: [t2.ravel()]\n",
    "}"
   ]
  },
  {
   "cell_type": "code",
   "execution_count": 221,
   "metadata": {},
   "outputs": [
    {
     "name": "stdout",
     "output_type": "stream",
     "text": [
      " 9999 | 0.356567979"
     ]
    }
   ],
   "source": [
    "sess = tf.Session(graph=g)\n",
    "sess.run(initializer)\n",
    "\n",
    "for i in range(10000):\n",
    "    v, _ = sess.run([loss, learn], feed_dict=feed_dict1)\n",
    "    sys.stdout.write(\"\\r% 5d | %0.9f\"%(i, v))"
   ]
  },
  {
   "cell_type": "code",
   "execution_count": 222,
   "metadata": {},
   "outputs": [
    {
     "data": {
      "image/png": "[encoded data removed]",
      "text/plain": [
       "<matplotlib.figure.Figure at 0x2b090484208>"
      ]
     },
     "metadata": {},
     "output_type": "display_data"
    }
   ],
   "source": [
    "answer = sess.run(output, feed_dict={X: [t1.ravel()]})\n",
    "plt.imshow(answer.reshape(t1.shape))\n",
    "plt.show() "
   ]
  },
  {
   "cell_type": "code",
   "execution_count": null,
   "metadata": {},
   "outputs": [],
   "source": []
  },
  {
   "cell_type": "code",
   "execution_count": null,
   "metadata": {},
   "outputs": [],
   "source": []
  },
  {
   "cell_type": "code",
   "execution_count": 232,
   "metadata": {},
   "outputs": [],
   "source": [
    "class Plotter():\n",
    "\n",
    "    def __init__(self, A):\n",
    "        self._initialize(A)\n",
    "        \n",
    "    def _initialize(self, A):\n",
    "        self.A = A\n",
    "        self.normalize()\n",
    "        \n",
    "    def add_plot(self, A):\n",
    "        \n",
    "        for A_ in A:\n",
    "            self.A.append(A_)\n",
    "        self.normalize()\n",
    "        \n",
    "        return self\n",
    "            \n",
    "    def normalize(self):\n",
    "        \n",
    "        A = self.A\n",
    "        \n",
    "        a = np.concatenate(A).T.ravel()\n",
    "        x, y = a[:len(a)//2], a[len(a)//2:]\n",
    "        xc, yc = max(x)-min(x), max(y)-min(y)\n",
    "        c = max(xc, yc)\n",
    "        self.c = c\n",
    "        \n",
    "        self.A = [(A_-[min(x)+xc/2, min(y)+yc/2])/c\n",
    "                  for A_ in A]\n",
    "        \n",
    "        return self\n",
    "\n",
    "    def rotate(self, ro):\n",
    "        \n",
    "        sin, cos = np.sin, np.cos\n",
    "        angle = np.pi/180*ro\n",
    "        \n",
    "        ro_mat = np.array(\n",
    "            [cos(angle), -sin(angle), sin(angle), cos(angle)]\n",
    "        ).reshape(2, 2)\n",
    "        \n",
    "        self.A = [A_.dot(ro_mat) for A_ in self.A]\n",
    "        \n",
    "        return self\n",
    "        \n",
    "    def move(self, direction):\n",
    "        self.A = [A_+direction for A_ in self.A]\n",
    "        return self\n",
    "        \n",
    "    def resize(self, size):\n",
    "        self.A = [A_*size for A_ in self.A]\n",
    "        return self\n",
    "        \n",
    "    def shake(self, resol=60, window=10, ratio=0.006):\n",
    "\n",
    "        def _get_line(p1, p2):\n",
    "            direction = p2-p1\n",
    "            resol_ = int(resol*np.linalg.norm(direction))\n",
    "            line = np.linspace(0, 1, resol_)\n",
    "            return [p1+direction*v for v in line][:-1]\n",
    "\n",
    "        def shake_A(A_):\n",
    "            lines = [\n",
    "                _get_line(A_[i], A_[i+1])\n",
    "                for i in range(len(A_)-1)\n",
    "            ]\n",
    "            line = np.concatenate(lines)\n",
    "            noise = np.random.randn(*line.shape)\n",
    "            ma_noise = pd.Series(noise.ravel()).rolling(window).mean()\n",
    "            noise = np.array(ma_noise.fillna(0)).reshape(noise.shape)\n",
    "            return np.concatenate([line+noise*ratio, A_[-1:]])\n",
    "        \n",
    "        A = self.A\n",
    "        self.A = [shake_A(A_) for A_ in A if len(A_) > 1]\n",
    "        return self\n",
    "\n",
    "    def draw(self, margin=0.1):\n",
    "        \n",
    "        plt.figure(figsize=[3, 3])\n",
    "        \n",
    "        p = plt.axes([0, 0, 1, 1])\n",
    "        for A_ in self.A:\n",
    "            A_ = A_.T\n",
    "            p.plot(A_[0], A_[1], c=\"black\")\n",
    "        p.get_xaxis().set_visible(False)\n",
    "        p.get_yaxis().set_visible(False)\n",
    "        axis = np.array([-0.5, 0.5, -0.5, 0.5])*(1+margin)\n",
    "        p.axis(axis)\n",
    "            \n",
    "        plt.show()"
   ]
  },
  {
   "cell_type": "code",
   "execution_count": 319,
   "metadata": {},
   "outputs": [],
   "source": [
    "datas = []\n",
    "for i in range(0, 180, 30):\n",
    "    p = Plotter([np.array([[0, 0], [0, 1], [1, 0], [0, 0]])]).rotate(i).resize(0.5)\n",
    "    datas.append(p.A[0])\n",
    "datas = np.array(datas)"
   ]
  },
  {
   "cell_type": "code",
   "execution_count": 324,
   "metadata": {},
   "outputs": [],
   "source": [
    "tf.reset_default_graph()\n",
    "g = tf.get_default_graph()\n",
    "\n",
    "X = tf.placeholder(dtype=tf.float32, shape=[4, 2])\n",
    "Y = tf.placeholder(dtype=tf.float32, shape=[4, 2])\n",
    "\n",
    "W = tf.Variable(tf.truncated_normal(shape=[2, 2]))\n",
    "output = tf.matmul(X, W)\n",
    "\n",
    "loss = tf.losses.mean_squared_error(Y, output)\n",
    "learn = tf.train.AdamOptimizer().minimize(loss)\n",
    "\n",
    "initializer = tf.global_variables_initializer()"
   ]
  },
  {
   "cell_type": "code",
   "execution_count": 325,
   "metadata": {},
   "outputs": [
    {
     "name": "stdout",
     "output_type": "stream",
     "text": [
      " 9999 | 0.000000000"
     ]
    }
   ],
   "source": [
    "sess = tf.Session(graph=g)\n",
    "sess.run(initializer)\n",
    "\n",
    "for i in range(10000):\n",
    "    v, _ = sess.run([loss, learn], feed_dict={X: datas[0], Y: datas[1]})\n",
    "    sys.stdout.write(\"\\r% 5d | %0.9f\"%(i, v))"
   ]
  },
  {
   "cell_type": "code",
   "execution_count": 328,
   "metadata": {},
   "outputs": [
    {
     "data": {
      "text/plain": [
       "array([[ 0.86602527, -0.50000024],\n",
       "       [ 0.50000024,  0.86602515]], dtype=float32)"
      ]
     },
     "execution_count": 328,
     "metadata": {},
     "output_type": "execute_result"
    }
   ],
   "source": [
    "sess.run(W)"
   ]
  },
  {
   "cell_type": "code",
   "execution_count": 329,
   "metadata": {},
   "outputs": [
    {
     "data": {
      "text/plain": [
       "array([[ 0.8660254, -0.5      ],\n",
       "       [ 0.5      ,  0.8660254]])"
      ]
     },
     "execution_count": 329,
     "metadata": {},
     "output_type": "execute_result"
    }
   ],
   "source": [
    "sin, cos = np.sin, np.cos\n",
    "angle = np.pi/180*30\n",
    "np.array(\n",
    "    [cos(angle), -sin(angle), sin(angle), cos(angle)]\n",
    ").reshape(2, 2)"
   ]
  },
  {
   "cell_type": "code",
   "execution_count": null,
   "metadata": {},
   "outputs": [],
   "source": []
  },
  {
   "cell_type": "code",
   "execution_count": null,
   "metadata": {},
   "outputs": [],
   "source": []
  },
  {
   "cell_type": "markdown",
   "metadata": {},
   "source": [
    "### 패턴 변화를 학습 가능한 아키텍쳐\n",
    "\n",
    "1. 정말 정형화된 변환. 예를들어. 축이 고정된 아핀변환\n",
    "\n",
    "> 사실 다음 순번과의 차이만 학습하는 것으로 학습이 가능하다.\n",
    "\n",
    "> 아핀변환의 변환행렬을 신경망으로 유추하는건 지레 짐작해도 알 수 있다.\n",
    "\n",
    "2. 좀더 응용해서, 축이 뒤바뀌는 변환이라면\n",
    "\n",
    "> 사실 이건 고정된 도형 생성 공식에 의해 만들어진 것이라, 파라미터 압축이 가능\n",
    "\n",
    "> 파라미터를 압축하고자 한다면 접근법은, 생성모델일 수 밖에 없는데.. 무엇을 쓸까.\n",
    "\n",
    "3. 좀더 응용해서, 객체가 변한다면\n",
    "\n",
    "> 위와 동일한 논리 전개가 가능\n",
    "\n",
    "4. 더 응용해서, 객체가 랜덤이라면.\n",
    "\n",
    "> 객체가 무엇인지 알 필요 없이 로컬리제이션을 해야하는가?\n",
    "\n",
    "> 굳이 신경망을 써야하는가? openCV를 이용하면 객체가 몇개인지 알 수 있지 않은가\n",
    "\n",
    "5. 더 응용해서, 축이 랜덤이라면.\n",
    "\n",
    "> 위와 같은 논리 전개가 가능\n",
    "\n",
    "6. 더 응용해서, 객체 자체가 랜덤성이 부여된다면.\n",
    "\n",
    "> 어떡하지? 엣지디텍션? 그럼 신경망을 안쓰는건데\n",
    "\n",
    "> 신박하려면 엣지 디텍션을 신경망으로 구현해야하나?\n",
    "\n",
    "7. 이 생각을 일반화 시키자면\n",
    "\n",
    "> 베이지안 모델을 근간으로 하는 신경망을 써야하나?\n",
    "\n",
    "> 그러니까.. 어떤 프라이어를 두고 업데이트 해나가는 방식\n",
    "\n",
    "> 모델이 학습할 수록 이부분은 랜덤일 확률을 증가시키거나 감소시켜 나가야 하는건가?"
   ]
  },
  {
   "cell_type": "markdown",
   "metadata": {},
   "source": [
    "### 신경망이 포함할 수 있는 오퍼레이션의 범위\n",
    "\n",
    "> 신경망으로 홀수와 짝수를 구분하는 알고리즘을 어떻게 만들까?\n",
    "\n",
    "> 사실 홀짝 구분은 나머지 연산의 특이케이스니까, 신경망으로 나머지 연산을 할 수 있을까?\n",
    "\n",
    "> 저는 1차원 공간에서 대충 홀짝의 분포는 다음과 같다.\n",
    "\n",
    "> 이를 효과적으로 나누기 위해선 다음처럼 무한한 파동함수가 필요하다는 것을 깨달았습니다.\n",
    "\n",
    "![](img/1.png)\n",
    "\n",
    "> 경험적으로 생각해보았을 때 파동함수를 사칙연산으로 근사하기 위해서 테일러 근사를 하는데\n",
    "\n",
    "> 무한한 영역에 파동함수를 테일러근사 하는 것은 무한개의 파라미터가 필요하다.\n",
    "\n",
    "> 또한 식을 보면, 어떠한 수렴의 형태로 표현할 수 없다. 즉, 식의 뒷부분이 수치해석적으로 생략 불가능하다.\n",
    "\n",
    "![](img/2.png)\n",
    "\n",
    "> 파동함수는 일반 신경망으로는 근사할수 없을것이다.\n",
    "\n",
    "> 이 문제는 일반신경망으로는 풀수 없고 RNN으로 접근해야 할 것이다.\n",
    "\n",
    "> \"RNN이 시퀀스에 대한 파동함수 역할을 한다.\"\n",
    "\n",
    "> \"그럼 굳이 RNN으로 풀 필요가 없이 활성함수를 sin함수로 바꾸면 되는게 아닌가\"\n",
    "\n",
    "### 막간 아이디어\n",
    "\n",
    "> 일반 신경망에서 활성함수만을 변경해 RNN과 동일한 신경망을 만들 수 있을 수도 있겠다.\n",
    "\n",
    "> {시드모이드, 렐루, ...} => {sin, cos, ...}\n",
    "\n",
    "> 이 문제는 신경망의 활성함수를 파동함수를 쓴다면 쉽게 일반 신경망으로도 풀리게 됩니다.\n",
    "\n",
    "> https://openreview.net/pdf?id=Sks3zF9eg\n",
    "![](img/3.png)\n",
    "\n"
   ]
  },
  {
   "cell_type": "markdown",
   "metadata": {},
   "source": [
    "### 데이터와 파라미터 개수\n",
    "\n",
    "> Simbol (1, 1, 1) => (2, 4, 3) => (3, 6, 9)의 규칙으로 만들어낸 100 by 100 이미지 세장이 있다면\n",
    "\n",
    "> 3만차원이 3차원으로 줄여지는 것이 이상적이다.\n",
    "\n",
    "### 번외\n",
    "\n",
    "![](img/11.png)\n",
    "\n",
    "> 그냥 오토인코더 히든 레이어 1개짜리 데이터 한개짜리로 심심해서 해봤는데..\n",
    "\n",
    "> 어떤 로스를 이용하든 색상이 역전되어서 나옴.. 재밋어서 올려봄.."
   ]
  },
  {
   "cell_type": "markdown",
   "metadata": {},
   "source": [
    "### 비정형\n",
    "\n",
    "> end to end 로 언더스코어를 치고\n",
    "\n",
    "> 어텐션 기준으로 잘라나가면서 어그맨테이션을 하면 더 낫지 않으려나..\n",
    "\n",
    "> 극한의 어그맨테이션을 향하여..\n",
    "\n",
    "> 명준이의 지적이 너무 맞는말이라.. 이걸로는 도저히 팀플을 할 용기가 안난다.\n",
    "\n",
    "> 그냥 혼자해봐야겠다.. 틀려도 내가 이해할 때까지는 깨달은게 아니라서.."
   ]
  },
  {
   "cell_type": "code",
   "execution_count": null,
   "metadata": {},
   "outputs": [],
   "source": []
  }
 ],
 "metadata": {
  "kernelspec": {
   "display_name": "Python 3",
   "language": "python",
   "name": "python3"
  },
  "language_info": {
   "codemirror_mode": {
    "name": "ipython",
    "version": 3
   },
   "file_extension": ".py",
   "mimetype": "text/x-python",
   "name": "python",
   "nbconvert_exporter": "python",
   "pygments_lexer": "ipython3",
   "version": "3.6.4"
  }
 },
 "nbformat": 4,
 "nbformat_minor": 2
}
