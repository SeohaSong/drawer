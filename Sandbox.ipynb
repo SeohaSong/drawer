{
 "cells": [
  {
   "cell_type": "code",
   "execution_count": 3,
   "metadata": {},
   "outputs": [],
   "source": [
    "% matplotlib inline"
   ]
  },
  {
   "cell_type": "code",
   "execution_count": 4,
   "metadata": {},
   "outputs": [],
   "source": [
    "import tensorflow as tf\n",
    "import pickle\n",
    "import pandas as pd\n",
    "import sys\n",
    "from matplotlib import pyplot as plt\n",
    "import numpy as np\n",
    "import pickle"
   ]
  },
  {
   "cell_type": "code",
   "execution_count": 5,
   "metadata": {},
   "outputs": [],
   "source": [
    "class TF_Agent():\n",
    "    \n",
    "    def __init__(self, keys):\n",
    "        self._initialize(keys)\n",
    "        \n",
    "    def _initialize(self, keys):\n",
    "        np.random.seed(0)\n",
    "        self.log_df = pd.DataFrame({key: [] for key in keys})\n",
    "        self.keys = self.log_df.columns\n",
    "        self.interesting = \",\".join(self.log_df.columns)\n",
    "        self.iter_count = 0     \n",
    "\n",
    "    def set_batch(self, n, feed_dict):\n",
    "        \n",
    "        keys = list(feed_dict.keys())\n",
    "        \n",
    "        data_n = len(feed_dict[keys[0]])\n",
    "        indices = np.random.choice(range(data_n), n, replace=False)\n",
    "        \n",
    "        feed_dict = {key: feed_dict[key][indices] for key in keys}\n",
    "        self.feed_dict = feed_dict\n",
    "    \n",
    "    def run_session(self, sess):\n",
    "        \n",
    "        values = sess.run(eval(self.interesting),\n",
    "                          feed_dict=self.feed_dict)\n",
    "        \n",
    "        self.recent_log = pd.Series(values, index=self.keys)\n",
    "        self.log_df = self.log_df.append([self.recent_log])\n",
    "        \n",
    "        self.iter_count += 1\n",
    "        \n",
    "    def trace(self, args, one_line_text=\"\"):\n",
    "        \n",
    "        iter_count = self.iter_count\n",
    "        deco = [\"-\", \"\\\\\", \"|\", \"/\"][iter_count%4]\n",
    "        \n",
    "        one_line_text = \"Iter: % 6d\"%iter_count\n",
    "        for arg in args:\n",
    "            one_line_text += \" %s %s: %0.9f\"%(\n",
    "                deco, arg, self.recent_log[arg]\n",
    "            )\n",
    "\n",
    "        sys.stdout.write(\"\\r%s\"%one_line_text)"
   ]
  },
  {
   "cell_type": "code",
   "execution_count": 34,
   "metadata": {},
   "outputs": [],
   "source": [
    "def show_img_pair(sess, display_output, x, shape, transpose):\n",
    "    \n",
    "    recon = sess.run(display_output, feed_dict={X: [x]})\n",
    "    \n",
    "    recon = recon.reshape(*shape).transpose(*transpose)\n",
    "    origin = x.reshape(*shape).transpose(*transpose)\n",
    "    \n",
    "    plots = [origin, recon]\n",
    "    plot_n = len(plots)\n",
    "\n",
    "    figsize = [6, 3]\n",
    "    row_n, col_n = 1, 2\n",
    "    margin = 0\n",
    "    w = (1 - margin) / col_n\n",
    "    h = (1 - margin) / row_n\n",
    "    l = b = margin\n",
    "\n",
    "    plt.figure(figsize=figsize)\n",
    "    \n",
    "    graphs = [plt.axes([l+w*(i%col_n), \n",
    "              b+h*(i//col_n), \n",
    "              w, h])\n",
    "              for i in range(plot_n)]\n",
    "    \n",
    "    for i in range(plot_n):\n",
    "        graph, plot = graphs[i], plots[i]\n",
    "        graph.imshow(plot)\n",
    "        graph.get_xaxis().set_visible(False)\n",
    "        graph.get_yaxis().set_visible(False)\n",
    "    \n",
    "    plt.show()"
   ]
  },
  {
   "cell_type": "code",
   "execution_count": 35,
   "metadata": {},
   "outputs": [],
   "source": [
    "img = plt.imread(\"./bg.jpeg\")\n",
    "recon_img = pickle.load(open(\"./recon_img\", \"rb\"))\n",
    "train_X = img.reshape(1, -1)\n",
    "\n",
    "dataset = pd.read_pickle(\"./data/data_batch_1\")\n",
    "train_X = dataset[\"data\"]\n",
    "\n",
    "x_dim = train_X.shape[-1]"
   ]
  },
  {
   "cell_type": "code",
   "execution_count": 36,
   "metadata": {},
   "outputs": [],
   "source": [
    "tf.reset_default_graph()\n",
    "g = tf.get_default_graph()\n",
    "tf.set_random_seed(0)\n",
    "\n",
    "X = tf.placeholder(dtype=tf.float32, shape=[None, x_dim])\n",
    "normalized_X = X/255\n",
    "\n",
    "W = tf.Variable(tf.truncated_normal(shape=[x_dim, 1]))\n",
    "b = tf.Variable(tf.truncated_normal(shape=[1, 1]))\n",
    "L = tf.sigmoid(tf.matmul(X, W))\n",
    "\n",
    "output = tf.sigmoid(tf.matmul(L, tf.transpose(W)))\n",
    "\n",
    "display_output = output*255\n",
    "\n",
    "loss = tf.losses.mean_squared_error(X, display_output)\n",
    "learn = tf.train.AdamOptimizer().minimize(loss)\n",
    "\n",
    "initializer = tf.global_variables_initializer()"
   ]
  },
  {
   "cell_type": "code",
   "execution_count": 37,
   "metadata": {},
   "outputs": [],
   "source": [
    "tfa = TF_Agent([\"loss\", \"learn\"])\n",
    "sess = tf.Session(graph=g)\n",
    "sess.run(initializer)"
   ]
  },
  {
   "cell_type": "code",
   "execution_count": 39,
   "metadata": {
    "scrolled": true
   },
   "outputs": [
    {
     "name": "stdout",
     "output_type": "stream",
     "text": [
      "Iter:  11000 - loss: 0.073044986834"
     ]
    },
    {
     "data": {
      "image/png": "[encoded data removed]",
      "text/plain": [
       "<matplotlib.figure.Figure at 0x1a8953c1f60>"
      ]
     },
     "metadata": {},
     "output_type": "display_data"
    }
   ],
   "source": [
    "iter_n = 10000\n",
    "\n",
    "for _ in range(iter_n):\n",
    "    tfa.set_batch(1, {X: train_X[:1]})\n",
    "    tfa.run_session(sess)\n",
    "    tfa.trace([\"loss\"])\n",
    "    \n",
    "show_img_pair(sess, display_output, train_X[0], [3, 32, 32], [1, 2, 0])"
   ]
  },
  {
   "cell_type": "code",
   "execution_count": 154,
   "metadata": {},
   "outputs": [],
   "source": [
    "sess.close()"
   ]
  }
 ],
 "metadata": {
  "kernelspec": {
   "display_name": "Python 3",
   "language": "python",
   "name": "python3"
  },
  "language_info": {
   "codemirror_mode": {
    "name": "ipython",
    "version": 3
   },
   "file_extension": ".py",
   "mimetype": "text/x-python",
   "name": "python",
   "nbconvert_exporter": "python",
   "pygments_lexer": "ipython3",
   "version": "3.6.4"
  }
 },
 "nbformat": 4,
 "nbformat_minor": 2
}
